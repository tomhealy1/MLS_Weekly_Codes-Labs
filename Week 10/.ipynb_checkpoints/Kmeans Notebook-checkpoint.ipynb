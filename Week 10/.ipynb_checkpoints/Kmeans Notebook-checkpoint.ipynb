{
 "cells": [
  {
   "cell_type": "markdown",
   "metadata": {},
   "source": [
    "### K-means \n",
    "exampleshttps://scikit-learn.org/stable/modules/generated/sklearn.cluster.KMeans.html#sklearn.cluster.KMeans"
   ]
  },
  {
   "cell_type": "code",
   "execution_count": 1,
   "metadata": {},
   "outputs": [],
   "source": [
    "#import our libraries\n",
    "import numpy as np\n",
    "import sklearn.cluster as skcl\n",
    "import matplotlib.pyplot as plt"
   ]
  },
  {
   "cell_type": "code",
   "execution_count": 2,
   "metadata": {},
   "outputs": [],
   "source": [
    "# Data set\n",
    "X = np.array([[1,2],[1,4], [1,0], [10,2], [10,4], [10,0]])"
   ]
  },
  {
   "cell_type": "code",
   "execution_count": 4,
   "metadata": {},
   "outputs": [
    {
     "data": {
      "text/plain": [
       "(-2.0, 6.0)"
      ]
     },
     "execution_count": 4,
     "metadata": {},
     "output_type": "execute_result"
    },
    {
     "data": {
      "image/png": "[encoded data removed]",
      "text/plain": [
       "<Figure size 432x288 with 1 Axes>"
      ]
     },
     "metadata": {
      "needs_background": "light"
     },
     "output_type": "display_data"
    }
   ],
   "source": [
    "plt.plot(X[:,0], X[:,1], 'x')\n",
    "        \n",
    "plt.xlim([-2,14])\n",
    "plt.ylim([-2,6])"
   ]
  },
  {
   "cell_type": "markdown",
   "metadata": {},
   "source": [
    "kmeans = skcl.KMeans(n_clusters=2, random_state=0).fit(X)"
   ]
  },
  {
   "cell_type": "code",
   "execution_count": 6,
   "metadata": {},
   "outputs": [
    {
     "data": {
      "text/plain": [
       "array([1, 1, 1, 0, 0, 0])"
      ]
     },
     "execution_count": 6,
     "metadata": {},
     "output_type": "execute_result"
    }
   ],
   "source": [
    "kmeans.labels_"
   ]
  },
  {
   "cell_type": "code",
   "execution_count": 7,
   "metadata": {},
   "outputs": [
    {
     "data": {
      "text/plain": [
       "(-2.0, 6.0)"
      ]
     },
     "execution_count": 7,
     "metadata": {},
     "output_type": "execute_result"
    },
    {
     "data": {
      "image/png": "[encoded data removed]",
      "text/plain": [
       "<Figure size 432x288 with 1 Axes>"
      ]
     },
     "metadata": {
      "needs_background": "light"
     },
     "output_type": "display_data"
    }
   ],
   "source": [
    "\n",
    "# Plot the data set.\n",
    "plt.plot(X[kmeans.labels_ == 0][:,0], X[kmeans.labels_ == 0][:,1], 'gx')\n",
    "plt.plot(X[kmeans.labels_ == 1][:,0], X[kmeans.labels_ == 1][:,1], 'rx')\n",
    "# Set reasonable limits.\n",
    "plt.xlim([-2,14])\n",
    "plt.ylim([-2,6])"
   ]
  },
  {
   "cell_type": "code",
   "execution_count": 8,
   "metadata": {},
   "outputs": [
    {
     "data": {
      "text/plain": [
       "array([1, 0])"
      ]
     },
     "execution_count": 8,
     "metadata": {},
     "output_type": "execute_result"
    }
   ],
   "source": [
    "# Predict the cluster for two points.\n",
    "newvals = np.array([[0, 0], [12, 3]])\n",
    "predictions = kmeans.predict(newvals)\n",
    "predictions"
   ]
  },
  {
   "cell_type": "code",
   "execution_count": 9,
   "metadata": {},
   "outputs": [
    {
     "data": {
      "text/plain": [
       "(-2.0, 6.0)"
      ]
     },
     "execution_count": 9,
     "metadata": {},
     "output_type": "execute_result"
    },
    {
     "data": {
      "image/png": "[encoded data removed]",
      "text/plain": [
       "<Figure size 432x288 with 1 Axes>"
      ]
     },
     "metadata": {
      "needs_background": "light"
     },
     "output_type": "display_data"
    }
   ],
   "source": [
    "# Plot the data set.\n",
    "plt.plot(X[kmeans.labels_ == 0][:,0], X[kmeans.labels_ == 0][:,1], 'gx')\n",
    "plt.plot(X[kmeans.labels_ == 1][:,0], X[kmeans.labels_ == 1][:,1], 'rx')\n",
    "plt.plot(newvals[:,0], newvals[:,1], 'bo')\n",
    "# Set reasonable limits.\n",
    "plt.xlim([-2,14])\n",
    "plt.ylim([-2,6])"
   ]
  },
  {
   "cell_type": "code",
   "execution_count": 10,
   "metadata": {},
   "outputs": [
    {
     "data": {
      "text/plain": [
       "(-2.0, 6.0)"
      ]
     },
     "execution_count": 10,
     "metadata": {},
     "output_type": "execute_result"
    },
    {
     "data": {
      "image/png": "[encoded data removed]",
      "text/plain": [
       "<Figure size 432x288 with 1 Axes>"
      ]
     },
     "metadata": {
      "needs_background": "light"
     },
     "output_type": "display_data"
    }
   ],
   "source": [
    "\n",
    "# Plot the data set.\n",
    "plt.plot(X[kmeans.labels_ == 0][:,0], X[kmeans.labels_ == 0][:,1], 'gx')\n",
    "plt.plot(X[kmeans.labels_ == 1][:,0], X[kmeans.labels_ == 1][:,1], 'rx')\n",
    "plt.plot(newvals[predictions == 0][:,0], newvals[predictions == 0][:,1], 'go')\n",
    "plt.plot(newvals[predictions == 1][:,0], newvals[predictions == 1][:,1], 'ro')\n",
    "# Set reasonable limits.\n",
    "plt.xlim([-2,14])\n",
    "plt.ylim([-2,6])"
   ]
  },
  {
   "cell_type": "code",
   "execution_count": 11,
   "metadata": {},
   "outputs": [
    {
     "data": {
      "text/plain": [
       "array([[10.,  2.],\n",
       "       [ 1.,  2.]])"
      ]
     },
     "execution_count": 11,
     "metadata": {},
     "output_type": "execute_result"
    }
   ],
   "source": [
    "\n",
    "cent = kmeans.cluster_centers_\n",
    "cent"
   ]
  },
  {
   "cell_type": "code",
   "execution_count": 12,
   "metadata": {},
   "outputs": [
    {
     "data": {
      "text/plain": [
       "(-2.0, 6.0)"
      ]
     },
     "execution_count": 12,
     "metadata": {},
     "output_type": "execute_result"
    },
    {
     "data": {
      "image/png": "[encoded data removed]",
      "text/plain": [
       "<Figure size 432x288 with 1 Axes>"
      ]
     },
     "metadata": {
      "needs_background": "light"
     },
     "output_type": "display_data"
    }
   ],
   "source": [
    "\n",
    "# Plot the data set.\n",
    "plt.plot(X[kmeans.labels_ == 0][:,0], X[kmeans.labels_ == 0][:,1], 'gx')\n",
    "plt.plot(X[kmeans.labels_ == 1][:,0], X[kmeans.labels_ == 1][:,1], 'rx')\n",
    "plt.plot(newvals[predictions == 0][:,0], newvals[predictions == 0][:,1], 'go')\n",
    "plt.plot(newvals[predictions == 1][:,0], newvals[predictions == 1][:,1], 'ro')\n",
    "plt.plot(cent[:,0], cent[:,1], 'k.')\n",
    "# Set reasonable limits.\n",
    "plt.xlim([-2,14])\n",
    "plt.ylim([-2,6])\n"
   ]
  },
  {
   "cell_type": "code",
   "execution_count": null,
   "metadata": {},
   "outputs": [],
   "source": []
  },
  {
   "cell_type": "code",
   "execution_count": 13,
   "metadata": {},
   "outputs": [
    {
     "data": {
      "text/plain": [
       "array([[-0.72471672,  0.53490737],\n",
       "       [ 0.12773443,  2.49825434],\n",
       "       [ 5.51344169, 16.53288941],\n",
       "       [ 4.08768728, 13.40933553],\n",
       "       [ 2.72117469, 14.10540183],\n",
       "       [ 0.51923979,  1.27838126],\n",
       "       [ 2.37994088,  0.51832918],\n",
       "       [ 2.21609131, 13.79026267],\n",
       "       [ 4.06076314, 16.00406203],\n",
       "       [ 7.13420526, 13.59068227],\n",
       "       [ 7.66890832, 16.04542588],\n",
       "       [ 3.04872212, 12.44598507],\n",
       "       [ 1.35951239,  0.52802457],\n",
       "       [ 0.11736768,  1.90694023],\n",
       "       [-0.4294972 , -0.23584131],\n",
       "       [-0.53928984,  1.59510268],\n",
       "       [ 5.10281314,  9.90953454],\n",
       "       [ 8.06839777, 14.27794128],\n",
       "       [ 1.31075778,  3.05034995],\n",
       "       [ 1.11008814,  1.08073551]])"
      ]
     },
     "execution_count": 13,
     "metadata": {},
     "output_type": "execute_result"
    }
   ],
   "source": [
    "# Data set.\n",
    "\n",
    "# Two centre points.\n",
    "c1 = np.array([1.0,  2.0])\n",
    "c2 = np.array([5.0, 12.0])\n",
    "\n",
    "# Create points randomly around the centre points.\n",
    "c1x = np.random.normal(c1[0], 2.0, 10)\n",
    "c1y = np.random.normal(c1[1], 2.0, 10)\n",
    "c1p = np.vstack([c1x, c1y]).T\n",
    "c2x = np.random.normal(c2[0], 2.0, 10)\n",
    "c2y = np.random.normal(c2[1], 2.0, 10)\n",
    "c2p = np.vstack([c2x, c2y]).T\n",
    "\n",
    "# Merge the two lists of values.\n",
    "myX = np.concatenate([c1p, c2p])\n",
    "# Shuffle the points.\n",
    "np.random.shuffle(myX)\n",
    "\n",
    "myX"
   ]
  },
  {
   "cell_type": "code",
   "execution_count": 14,
   "metadata": {},
   "outputs": [
    {
     "data": {
      "text/plain": [
       "[<matplotlib.lines.Line2D at 0x251965845c8>]"
      ]
     },
     "execution_count": 14,
     "metadata": {},
     "output_type": "execute_result"
    },
    {
     "data": {
      "image/png": "[encoded data removed]",
      "text/plain": [
       "<Figure size 432x288 with 1 Axes>"
      ]
     },
     "metadata": {
      "needs_background": "light"
     },
     "output_type": "display_data"
    }
   ],
   "source": [
    "\n",
    "# Plot the data set.\n",
    "plt.plot(myX[:,0], myX[:,1], 'x')"
   ]
  },
  {
   "cell_type": "code",
   "execution_count": 15,
   "metadata": {},
   "outputs": [],
   "source": [
    "# Perform kmeans fitting.\n",
    "mykmeans = skcl.KMeans(n_clusters=2, random_state=0).fit(myX)"
   ]
  },
  {
   "cell_type": "code",
   "execution_count": 16,
   "metadata": {},
   "outputs": [
    {
     "data": {
      "text/plain": [
       "[<matplotlib.lines.Line2D at 0x251965ce848>]"
      ]
     },
     "execution_count": 16,
     "metadata": {},
     "output_type": "execute_result"
    },
    {
     "data": {
      "image/png": "[encoded data removed]",
      "text/plain": [
       "<Figure size 432x288 with 1 Axes>"
      ]
     },
     "metadata": {
      "needs_background": "light"
     },
     "output_type": "display_data"
    }
   ],
   "source": [
    "# Plot the data set.\n",
    "plt.plot(myX[mykmeans.labels_ == 0][:,0], myX[mykmeans.labels_ == 0][:,1], 'gx')\n",
    "plt.plot(myX[mykmeans.labels_ == 1][:,0], myX[mykmeans.labels_ == 1][:,1], 'rx')"
   ]
  },
  {
   "cell_type": "code",
   "execution_count": 17,
   "metadata": {},
   "outputs": [
    {
     "data": {
      "text/plain": [
       "array([[-1.        , -1.        ],\n",
       "       [-0.11111111,  0.77777778],\n",
       "       [ 0.77777778,  2.55555556],\n",
       "       [ 1.66666667,  4.33333333],\n",
       "       [ 2.55555556,  6.11111111],\n",
       "       [ 3.44444444,  7.88888889],\n",
       "       [ 4.33333333,  9.66666667],\n",
       "       [ 5.22222222, 11.44444444],\n",
       "       [ 6.11111111, 13.22222222],\n",
       "       [ 7.        , 15.        ]])"
      ]
     },
     "execution_count": 17,
     "metadata": {},
     "output_type": "execute_result"
    }
   ],
   "source": [
    "# Create new dummy points for classification.\n",
    "# mynewvals = np.array([[0, 0], [6, 10]])\n",
    "myxvals = np.linspace(-1.0, 7.0, 10)\n",
    "myyvals = np.linspace(-1.0, 15.0, 10)\n",
    "mynewvals = np.vstack([myxvals, myyvals]).T\n",
    "mynewvals"
   ]
  },
  {
   "cell_type": "code",
   "execution_count": 18,
   "metadata": {},
   "outputs": [
    {
     "data": {
      "text/plain": [
       "array([0, 0, 0, 0, 0, 1, 1, 1, 1, 1])"
      ]
     },
     "execution_count": 18,
     "metadata": {},
     "output_type": "execute_result"
    }
   ],
   "source": [
    "\n",
    "# Predict the cluster for two points.\n",
    "mypredictions = mykmeans.predict(mynewvals)\n",
    "mypredictions"
   ]
  },
  {
   "cell_type": "code",
   "execution_count": 19,
   "metadata": {},
   "outputs": [
    {
     "data": {
      "text/plain": [
       "[<matplotlib.lines.Line2D at 0x25196661088>]"
      ]
     },
     "execution_count": 19,
     "metadata": {},
     "output_type": "execute_result"
    },
    {
     "data": {
      "image/png": "[encoded data removed]",
      "text/plain": [
       "<Figure size 432x288 with 1 Axes>"
      ]
     },
     "metadata": {
      "needs_background": "light"
     },
     "output_type": "display_data"
    }
   ],
   "source": [
    "# Plot the data set.\n",
    "plt.plot(myX[mykmeans.labels_ == 0][:,0], myX[mykmeans.labels_ == 0][:,1], 'gx')\n",
    "plt.plot(myX[mykmeans.labels_ == 1][:,0], myX[mykmeans.labels_ == 1][:,1], 'rx')\n",
    "plt.plot(mynewvals[mypredictions == 0][:,0], mynewvals[mypredictions == 0][:,1], 'go')\n",
    "plt.plot(mynewvals[mypredictions == 1][:,0], mynewvals[mypredictions == 1][:,1], 'ro')"
   ]
  },
  {
   "cell_type": "code",
   "execution_count": 20,
   "metadata": {},
   "outputs": [
    {
     "data": {
      "text/plain": [
       "array([[ 0.52311373,  1.27551838],\n",
       "       [ 4.96222047, 14.01115205]])"
      ]
     },
     "execution_count": 20,
     "metadata": {},
     "output_type": "execute_result"
    }
   ],
   "source": [
    "# The centres of clusters.\n",
    "mycent = mykmeans.cluster_centers_\n",
    "mycent"
   ]
  },
  {
   "cell_type": "code",
   "execution_count": 21,
   "metadata": {},
   "outputs": [
    {
     "data": {
      "text/plain": [
       "[<matplotlib.lines.Line2D at 0x251965002c8>]"
      ]
     },
     "execution_count": 21,
     "metadata": {},
     "output_type": "execute_result"
    },
    {
     "data": {
      "image/png": "[encoded data removed]",
      "text/plain": [
       "<Figure size 432x288 with 1 Axes>"
      ]
     },
     "metadata": {
      "needs_background": "light"
     },
     "output_type": "display_data"
    }
   ],
   "source": [
    "# Plot the data set.\n",
    "plt.plot(myX[mykmeans.labels_ == 0][:,0], myX[mykmeans.labels_ == 0][:,1], 'gx')\n",
    "plt.plot(myX[mykmeans.labels_ == 1][:,0], myX[mykmeans.labels_ == 1][:,1], 'rx')\n",
    "plt.plot(mynewvals[mypredictions == 0][:,0], mynewvals[mypredictions == 0][:,1], 'go')\n",
    "plt.plot(mynewvals[mypredictions == 1][:,0], mynewvals[mypredictions == 1][:,1], 'ro')\n",
    "plt.plot(mycent[:,0], mycent[:,1], 'k.')"
   ]
  },
  {
   "cell_type": "code",
   "execution_count": null,
   "metadata": {},
   "outputs": [],
   "source": []
  },
  {
   "cell_type": "code",
   "execution_count": null,
   "metadata": {},
   "outputs": [],
   "source": []
  },
  {
   "cell_type": "code",
   "execution_count": null,
   "metadata": {},
   "outputs": [],
   "source": []
  }
 ],
 "metadata": {
  "kernelspec": {
   "display_name": "Python 3",
   "language": "python",
   "name": "python3"
  },
  "language_info": {
   "codemirror_mode": {
    "name": "ipython",
    "version": 3
   },
   "file_extension": ".py",
   "mimetype": "text/x-python",
   "name": "python",
   "nbconvert_exporter": "python",
   "pygments_lexer": "ipython3",
   "version": "3.7.8"
  }
 },
 "nbformat": 4,
 "nbformat_minor": 4
}
